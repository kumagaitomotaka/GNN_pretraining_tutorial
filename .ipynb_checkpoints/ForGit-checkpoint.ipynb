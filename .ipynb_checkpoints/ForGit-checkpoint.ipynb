{
 "cells": [
  {
   "cell_type": "code",
   "execution_count": 6,
   "id": "251d8ddb-99e4-4b2c-ba8e-72330b9c8561",
   "metadata": {
    "collapsed": true,
    "jupyter": {
     "outputs_hidden": true
    },
    "tags": []
   },
   "outputs": [
    {
     "name": "stdout",
     "output_type": "stream",
     "text": [
      "Initialized empty Git repository in /data3/Chem/kumagai/Pretrain_models/.git/\n"
     ]
    }
   ],
   "source": [
    "!git init"
   ]
  },
  {
   "cell_type": "code",
   "execution_count": 8,
   "id": "cbc7bc3a-14f5-4b32-b7f9-bc5f2a15eb16",
   "metadata": {
    "collapsed": true,
    "jupyter": {
     "outputs_hidden": true
    },
    "tags": []
   },
   "outputs": [
    {
     "name": "stdout",
     "output_type": "stream",
     "text": [
      "[master a7dc187] Initial commit\n",
      " Committer: kumagaitomotaka <kumagai@s50.kasukabe>\n",
      "Your name and email address were configured automatically based\n",
      "on your username and hostname. Please check that they are accurate.\n",
      "You can suppress this message by setting them explicitly:\n",
      "\n",
      "    git config --global user.name \"Your Name\"\n",
      "    git config --global user.email you@example.com\n",
      "\n",
      "After doing this, you may fix the identity used for this commit with:\n",
      "\n",
      "    git commit --amend --reset-author\n",
      "\n",
      " 2 files changed, 0 insertions(+), 0 deletions(-)\n",
      " rename .ipynb_checkpoints/{untitled-checkpoint.txt => README-checkpoint.md} (100%)\n",
      " create mode 100644 README.md\n"
     ]
    }
   ],
   "source": [
    "!git add .\n",
    "!git commit -m \"Initial commit\""
   ]
  },
  {
   "cell_type": "code",
   "execution_count": 9,
   "id": "dd334fec-8f99-433d-90ed-0d738d222975",
   "metadata": {
    "tags": []
   },
   "outputs": [],
   "source": [
    "!git branch -M main"
   ]
  },
  {
   "cell_type": "code",
   "execution_count": 10,
   "id": "4e823b7a-3638-4289-a45c-9ee618479ca0",
   "metadata": {
    "tags": []
   },
   "outputs": [],
   "source": [
    "!git remote add origin git@github.com:kumagaitomotaka/Pretrain_models.git"
   ]
  },
  {
   "cell_type": "code",
   "execution_count": 11,
   "id": "d30982f0-d5ff-4156-bc05-76d2f1fc08ea",
   "metadata": {
    "collapsed": true,
    "jupyter": {
     "outputs_hidden": true
    },
    "tags": []
   },
   "outputs": [
    {
     "name": "stdout",
     "output_type": "stream",
     "text": [
      "Counting objects: 36, done.\n",
      "Delta compression using up to 36 threads.\n",
      "Compressing objects: 100% (35/35), done.\n",
      "Writing objects: 100% (36/36), 779.18 KiB | 6.66 MiB/s, done.\n",
      "Total 36 (delta 7), reused 0 (delta 0)\n",
      "remote: Resolving deltas: 100% (7/7), done.\u001b[K\n",
      "To github.com:kumagaitomotaka/Pretrain_models.git\n",
      " * [new branch]      main -> main\n",
      "Branch 'main' set up to track remote branch 'main' from 'origin'.\n"
     ]
    }
   ],
   "source": [
    "!git push -u origin main"
   ]
  },
  {
   "cell_type": "code",
   "execution_count": null,
   "id": "02e7dbaf-855f-4c85-9fd0-60571f55dc9b",
   "metadata": {},
   "outputs": [],
   "source": [
    "!git add .\n",
    "!git commit -m \"commit\"\n",
    "!git push"
   ]
  }
 ],
 "metadata": {
  "kernelspec": {
   "display_name": "Python 3 (ipykernel)",
   "language": "python",
   "name": "python3"
  },
  "language_info": {
   "codemirror_mode": {
    "name": "ipython",
    "version": 3
   },
   "file_extension": ".py",
   "mimetype": "text/x-python",
   "name": "python",
   "nbconvert_exporter": "python",
   "pygments_lexer": "ipython3",
   "version": "3.8.18"
  }
 },
 "nbformat": 4,
 "nbformat_minor": 5
}
