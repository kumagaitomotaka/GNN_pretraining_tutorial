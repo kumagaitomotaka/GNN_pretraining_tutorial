{
 "cells": [
  {
   "cell_type": "code",
   "execution_count": 6,
   "id": "251d8ddb-99e4-4b2c-ba8e-72330b9c8561",
   "metadata": {
    "collapsed": true,
    "jupyter": {
     "outputs_hidden": true
    },
    "tags": []
   },
   "outputs": [
    {
     "name": "stdout",
     "output_type": "stream",
     "text": [
      "Initialized empty Git repository in /data3/Chem/kumagai/Pretrain_models/.git/\n"
     ]
    }
   ],
   "source": [
    "!git init"
   ]
  },
  {
   "cell_type": "code",
   "execution_count": 8,
   "id": "cbc7bc3a-14f5-4b32-b7f9-bc5f2a15eb16",
   "metadata": {
    "collapsed": true,
    "jupyter": {
     "outputs_hidden": true
    },
    "tags": []
   },
   "outputs": [
    {
     "name": "stdout",
     "output_type": "stream",
     "text": [
      "[master a7dc187] Initial commit\n",
      " Committer: kumagaitomotaka <kumagai@s50.kasukabe>\n",
      "Your name and email address were configured automatically based\n",
      "on your username and hostname. Please check that they are accurate.\n",
      "You can suppress this message by setting them explicitly:\n",
      "\n",
      "    git config --global user.name \"Your Name\"\n",
      "    git config --global user.email you@example.com\n",
      "\n",
      "After doing this, you may fix the identity used for this commit with:\n",
      "\n",
      "    git commit --amend --reset-author\n",
      "\n",
      " 2 files changed, 0 insertions(+), 0 deletions(-)\n",
      " rename .ipynb_checkpoints/{untitled-checkpoint.txt => README-checkpoint.md} (100%)\n",
      " create mode 100644 README.md\n"
     ]
    }
   ],
   "source": [
    "!git add .\n",
    "!git commit -m \"Initial commit\""
   ]
  },
  {
   "cell_type": "code",
   "execution_count": 9,
   "id": "dd334fec-8f99-433d-90ed-0d738d222975",
   "metadata": {
    "tags": []
   },
   "outputs": [],
   "source": [
    "!git branch -M main"
   ]
  },
  {
   "cell_type": "code",
   "execution_count": 10,
   "id": "4e823b7a-3638-4289-a45c-9ee618479ca0",
   "metadata": {
    "tags": []
   },
   "outputs": [],
   "source": [
    "!git remote add origin git@github.com:kumagaitomotaka/Pretrain_models.git"
   ]
  },
  {
   "cell_type": "code",
   "execution_count": 11,
   "id": "d30982f0-d5ff-4156-bc05-76d2f1fc08ea",
   "metadata": {
    "collapsed": true,
    "jupyter": {
     "outputs_hidden": true
    },
    "tags": []
   },
   "outputs": [
    {
     "name": "stdout",
     "output_type": "stream",
     "text": [
      "Counting objects: 36, done.\n",
      "Delta compression using up to 36 threads.\n",
      "Compressing objects: 100% (35/35), done.\n",
      "Writing objects: 100% (36/36), 779.18 KiB | 6.66 MiB/s, done.\n",
      "Total 36 (delta 7), reused 0 (delta 0)\n",
      "remote: Resolving deltas: 100% (7/7), done.\u001b[K\n",
      "To github.com:kumagaitomotaka/Pretrain_models.git\n",
      " * [new branch]      main -> main\n",
      "Branch 'main' set up to track remote branch 'main' from 'origin'.\n"
     ]
    }
   ],
   "source": [
    "!git push -u origin main"
   ]
  },
  {
   "cell_type": "code",
   "execution_count": 1,
   "id": "02e7dbaf-855f-4c85-9fd0-60571f55dc9b",
   "metadata": {},
   "outputs": [
    {
     "name": "stdout",
     "output_type": "stream",
     "text": [
      "[main 9da42f8] commit_240527\n",
      " Committer: kumagaitomotaka <kumagai@s50.kasukabe>\n",
      "Your name and email address were configured automatically based\n",
      "on your username and hostname. Please check that they are accurate.\n",
      "You can suppress this message by setting them explicitly:\n",
      "\n",
      "    git config --global user.name \"Your Name\"\n",
      "    git config --global user.email you@example.com\n",
      "\n",
      "After doing this, you may fix the identity used for this commit with:\n",
      "\n",
      "    git commit --amend --reset-author\n",
      "\n",
      "Counting objects: 22, done.\n",
      "Delta compression using up to 36 threads.\n",
      "Compressing objects: 100% (22/22), done.\n",
      "Writing objects: 100% (22/22), 13.12 MiB | 1.85 MiB/s, done.\n",
      "Total 22 (delta 7), reused 0 (delta 0)\n",
      "remote: Resolving deltas: 100% (7/7), completed with 4 local objects.\u001b[K\n",
      "To github.com:kumagaitomotaka/Pretrain_models.git\n",
      "   e16fda3..9da42f8  main -> main\n"
     ]
    }
   ],
   "source": [
    "!git add .\n",
    "!git commit -m \"commit_240527\"\n",
    "!git push"
   ]
  },
  {
   "cell_type": "code",
   "execution_count": 4,
   "id": "c7cdfd66-53cb-414f-89d6-7938db4f49ac",
   "metadata": {
    "tags": []
   },
   "outputs": [
    {
     "name": "stdout",
     "output_type": "stream",
     "text": [
      "remote: Enumerating objects: 3, done.\u001b[K\n",
      "remote: Counting objects: 100% (3/3), done.\u001b[K\n",
      "remote: Compressing objects: 100% (2/2), done.\u001b[K\n",
      "Unpacking objects: 100% (2/2), done.\n",
      "remote: Total 2 (delta 1), reused 0 (delta 0), pack-reused 0\u001b[K\n",
      "From github.com:kumagaitomotaka/Pretrain_models\n",
      " * branch            main       -> FETCH_HEAD\n",
      "   a028dc2..e16fda3  main       -> origin/main\n",
      "Removing .ipynb_checkpoints/evaluation-checkpoint.ipynb\n",
      "CONFLICT (modify/delete): .ipynb_checkpoints/README-checkpoint.md deleted in e16fda3d6fe35b6608fb07dca5cefd39ab60aafe and modified in HEAD. Version HEAD of .ipynb_checkpoints/README-checkpoint.md left in tree.\n",
      "Removing .ipynb_checkpoints/PL_GNN_to_Hug-checkpoint.py\n",
      "Removing .ipynb_checkpoints/PL_GNN_from_Hug-checkpoint.py\n",
      "Removing .ipynb_checkpoints/ForGit-checkpoint.ipynb\n",
      "Removing .ipynb_checkpoints/Dopython-checkpoint.ipynb\n",
      "Automatic merge failed; fix conflicts and then commit the result.\n"
     ]
    }
   ],
   "source": [
    "!git pull origin main"
   ]
  },
  {
   "cell_type": "code",
   "execution_count": 8,
   "id": "6bff1f83-bccf-491b-a318-f65c08248ceb",
   "metadata": {
    "tags": []
   },
   "outputs": [
    {
     "name": "stdout",
     "output_type": "stream",
     "text": [
      "error: Pulling is not possible because you have unmerged files.\n",
      "ヒント: Fix them up in the work tree, and then use 'git add/rm <file>'\n",
      "ヒント: as appropriate to mark resolution and make a commit.\n",
      "fatal: Exiting because of an unresolved conflict.\n",
      "To github.com:kumagaitomotaka/Pretrain_models.git\n",
      " ! [rejected]        main -> main (non-fast-forward)\n",
      "error: failed to push some refs to 'git@github.com:kumagaitomotaka/Pretrain_models.git'\n",
      "ヒント: Updates were rejected because the tip of your current branch is behind\n",
      "ヒント: its remote counterpart. Integrate the remote changes (e.g.\n",
      "ヒント: 'git pull ...') before pushing again.\n",
      "ヒント: See the 'Note about fast-forwards' in 'git push --help' for details.\n"
     ]
    }
   ],
   "source": [
    "!git pull origin main\n",
    "# マージコンフリクトが発生した場合は解決してください\n",
    "!git push origin main"
   ]
  }
 ],
 "metadata": {
  "kernelspec": {
   "display_name": "Python 3 (ipykernel)",
   "language": "python",
   "name": "python3"
  },
  "language_info": {
   "codemirror_mode": {
    "name": "ipython",
    "version": 3
   },
   "file_extension": ".py",
   "mimetype": "text/x-python",
   "name": "python",
   "nbconvert_exporter": "python",
   "pygments_lexer": "ipython3",
   "version": "3.8.18"
  }
 },
 "nbformat": 4,
 "nbformat_minor": 5
}
